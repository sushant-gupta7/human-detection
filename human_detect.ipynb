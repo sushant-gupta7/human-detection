{
 "cells": [
  {
   "cell_type": "code",
   "execution_count": 1,
   "metadata": {},
   "outputs": [],
   "source": [
    "import argparse\n",
    "\n",
    "import cv2\n",
    "import imutils\n",
    "import numpy as np"
   ]
  },
  {
   "cell_type": "code",
   "execution_count": 2,
   "metadata": {},
   "outputs": [],
   "source": [
    "filename = 'pedestrians.jpeg'\n",
    " \n",
    "def main():\n",
    " \n",
    "  # Create a HOGDescriptor object\n",
    "  hog = cv2.HOGDescriptor()\n",
    "     \n",
    "  # Initialize the People Detector\n",
    "  hog.setSVMDetector(cv2.HOGDescriptor_getDefaultPeopleDetector())\n",
    "     \n",
    "  # Load an image\n",
    "  image = cv2.imread(filename)\n",
    "         \n",
    "  # Detect people\n",
    "  # image: Source image\n",
    "  # winStride: step size in x and y direction of the sliding window\n",
    "  # padding: no. of pixels in x and y direction for padding of sliding window\n",
    "  # scale: Detection window size increase coefficient   \n",
    "  # bounding_boxes: Location of detected people\n",
    "  # weights: Weight scores of detected people\n",
    "  (bounding_boxes, weights) = hog.detectMultiScale(image, \n",
    "                                                   winStride=(4, 4),\n",
    "                                                   padding=(8, 8), \n",
    "                                                   scale=1.05)\n",
    "  print('bounding_boxes',bounding_boxes)\n",
    "  print('weights',weights)\n",
    " \n",
    "  # Draw bounding boxes on the image\n",
    "  for (x, y, w, h) in bounding_boxes: \n",
    "    cv2.rectangle(image, \n",
    "                  (x, y),  \n",
    "                  (x + w, y + h),  \n",
    "                  (0, 0, 255), \n",
    "                   4)\n",
    "                     \n",
    "  # Create the output file name by removing the '.jpg' part\n",
    "  size = len(filename)\n",
    "  new_filename = filename[:size - 4]\n",
    "  new_filename = new_filename + '_detect.jpg'\n",
    "     \n",
    "  # Save the new image in the working directory\n",
    "  cv2.imwrite(new_filename, image)\n",
    "     \n",
    "  # Display the image \n",
    "  cv2.imshow(\"Image\", image) \n",
    "     \n",
    "  # Display the window until any key is pressed\n",
    "  cv2.waitKey(0) \n",
    "     \n",
    "  # Close all windows\n",
    "  cv2.destroyAllWindows() "
   ]
  },
  {
   "cell_type": "code",
   "execution_count": 3,
   "metadata": {},
   "outputs": [
    {
     "name": "stdout",
     "output_type": "stream",
     "text": [
      "bounding_boxes [[ 65  20  81 163]\n",
      " [128  34  71 142]]\n",
      "weights [0.93378798 0.77966746]\n"
     ]
    }
   ],
   "source": [
    "main()"
   ]
  },
  {
   "cell_type": "code",
   "execution_count": null,
   "metadata": {},
   "outputs": [],
   "source": []
  }
 ],
 "metadata": {
  "kernelspec": {
   "display_name": "Python 3.7.0 64-bit ('3.7.0')",
   "language": "python",
   "name": "python3"
  },
  "language_info": {
   "codemirror_mode": {
    "name": "ipython",
    "version": 3
   },
   "file_extension": ".py",
   "mimetype": "text/x-python",
   "name": "python",
   "nbconvert_exporter": "python",
   "pygments_lexer": "ipython3",
   "version": "3.7.0"
  },
  "orig_nbformat": 4,
  "vscode": {
   "interpreter": {
    "hash": "d4724c8b13b78bda4ec3b3324504b8890a1c201cc64124e935468e66208bce8a"
   }
  }
 },
 "nbformat": 4,
 "nbformat_minor": 2
}
